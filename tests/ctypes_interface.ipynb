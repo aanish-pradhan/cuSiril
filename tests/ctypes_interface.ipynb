{
 "cells": [
  {
   "cell_type": "code",
   "execution_count": 1,
   "metadata": {},
   "outputs": [],
   "source": [
    "# IMPORT PACKAGES\n",
    "from astropy.io import fits # FITS I/O\n",
    "import ctypes # C/C++/CUDA shared libraries\n",
    "import numpy as np # NumPy\n",
    "import time # Timing"
   ]
  },
  {
   "cell_type": "code",
   "execution_count": 2,
   "metadata": {},
   "outputs": [],
   "source": [
    "# SHARED LIBRARIES\n",
    "clib = ctypes.CDLL(\"../src/Stacking/stack.o\")"
   ]
  },
  {
   "cell_type": "code",
   "execution_count": 3,
   "metadata": {},
   "outputs": [],
   "source": [
    "# DATA INGESTION\n",
    "biasFrames = fits.open(\"../assets/NGC-1499/Bias/Bias.fit\")\n",
    "darkFrames = fits.open(\"../assets/NGC-1499/Dark/Dark.fit\")"
   ]
  },
  {
   "cell_type": "code",
   "execution_count": 4,
   "metadata": {},
   "outputs": [],
   "source": [
    "# DATA TRANSFORMATION\n",
    "\n",
    "def flattenSubframes(subframes: list) -> list:\n",
    "\t\"\"\"\n",
    "\tFlattens a list of subframes.\n",
    "\t\n",
    "\tArgs:\n",
    "\t\tsubframes (list): A list of Astropy FITS HDU objects which contain the \n",
    "\t\tindividual subframes.\n",
    "\tReturns:\n",
    "\t\tA list of image statistics and NumPy ndarrays. The list contains, in \n",
    "\t\torder, the following: number of subframes, image width, image height, \n",
    "\t\tflattened and appended red color channels from each subframe, \n",
    "\t\tflattened and appended green color channels from each subframe, \n",
    "\t\tflattened and appended blue color channels from each subframe\n",
    "\t\"\"\"\n",
    "\n",
    "\t# Determine how much memory to allocate\n",
    "\timageWidth = subframes[0].data.T.shape[0]\n",
    "\timageHeight = subframes[0].data.T.shape[1]\n",
    "\tpixelsPerImage = imageWidth * imageHeight\n",
    "\tnumberOfSubframes = len(subframes)\n",
    "\tdataType = subframes[0].data.dtype\n",
    "\tprint(\"Image width:\", subframes[0].data.T.shape[0])\n",
    "\tprint(\"Image height:\", subframes[0].data.T.shape[1])\n",
    "\tprint(\"Pixels per image:\", pixelsPerImage)\n",
    "\tprint(\"Number of subframes:\", numberOfSubframes)\n",
    "\tprint(\"Data type:\", dataType)\n",
    "\t\n",
    "\t# Allocate empty arrays\n",
    "\tflattenedRedChannels = np.empty((1, pixelsPerImage * numberOfSubframes), dtype = dataType)\n",
    "\tflattenedGreenChannels = np.empty((1, pixelsPerImage * numberOfSubframes), dtype = dataType)\n",
    "\tflattenedBlueChannels = np.empty((1, pixelsPerImage * numberOfSubframes), dtype = dataType)\n",
    "\n",
    "\t# Flatten subframes by color channel\n",
    "\tfor subframe in range(0, len(subframes)):\n",
    "\t\tstartIndex = subframe * pixelsPerImage\n",
    "\t\tendIndex = (subframe + 1) * pixelsPerImage\n",
    "\n",
    "\t\tflattenedRedChannels[0, startIndex:endIndex] = subframes[subframe].data.T[:, :, 0].flatten()\n",
    "\t\tflattenedGreenChannels[0, startIndex:endIndex] = subframes[subframe].data.T[:, :, 1].flatten()\n",
    "\t\tflattenedBlueChannels[0, startIndex:endIndex] = subframes[subframe].data.T[:, :, 2].flatten()\n",
    "\n",
    "\treturn [numberOfSubframes, imageWidth, imageHeight, flattenedRedChannels.flatten(), flattenedGreenChannels.flatten(), flattenedBlueChannels.flatten()]"
   ]
  },
  {
   "cell_type": "code",
   "execution_count": 5,
   "metadata": {},
   "outputs": [
    {
     "name": "stdout",
     "output_type": "stream",
     "text": [
      "Image width: 4948\n",
      "Image height: 3280\n",
      "Pixels per image: 16229440\n",
      "Number of subframes: 5\n",
      "Data type: uint16\n"
     ]
    }
   ],
   "source": [
    "flattenedBiasFrames = flattenSubframes(biasFrames)"
   ]
  },
  {
   "cell_type": "code",
   "execution_count": 15,
   "metadata": {},
   "outputs": [],
   "source": [
    "class Stack(ctypes.Structure):\n",
    "    _fields_ = [\n",
    "        (\"numberOfSubframes\", ctypes.c_uint64),\n",
    "        (\"imageWidth\", ctypes.c_uint64),\n",
    "        (\"imageHeight\", ctypes.c_uint64),\n",
    "        (\"pixelsPerImage\", ctypes.c_uint64),\n",
    "        (\"redSubframes\", ctypes.POINTER(ctypes.c_uint16)),\n",
    "        (\"greenSubframes\", ctypes.POINTER(ctypes.c_uint16)),\n",
    "        (\"blueSubframes\", ctypes.POINTER(ctypes.c_uint16)),\n",
    "        (\"stackedRed\", ctypes.POINTER(ctypes.c_float)),\n",
    "        (\"stackedGreen\", ctypes.POINTER(ctypes.c_float)),\n",
    "        (\"stackedBlue\", ctypes.POINTER(ctypes.c_float))\n",
    "        # Add more fields matching the C struct if needed\n",
    "    ]"
   ]
  },
  {
   "cell_type": "code",
   "execution_count": 18,
   "metadata": {},
   "outputs": [],
   "source": [
    "clib.initializeStack.restype = ctypes.POINTER(Stack)\n",
    "\n",
    "red_data = np.array(flattenedBiasFrames[3], dtype=np.uint16)\n",
    "green_data = np.array(flattenedBiasFrames[4], dtype=np.uint16)\n",
    "blue_data = np.array(flattenedBiasFrames[5], dtype=np.uint16)\n",
    "\n",
    "# Prepare ctypes data types\n",
    "c_uint64 = ctypes.c_uint64\n",
    "c_uint16_p = ctypes.POINTER(ctypes.c_uint16)\n",
    "\n",
    "# Convert NumPy arrays to ctypes pointers\n",
    "red_ptr = red_data.ctypes.data_as(c_uint16_p)\n",
    "green_ptr = green_data.ctypes.data_as(c_uint16_p)\n",
    "blue_ptr = blue_data.ctypes.data_as(c_uint16_p)\n",
    "\n",
    "# Call the C function\n",
    "x = clib.initializeStack(c_uint64(flattenedBiasFrames[0]),\n",
    "                         c_uint64(flattenedBiasFrames[1]),\n",
    "                         c_uint64(flattenedBiasFrames[2]),\n",
    "                         red_ptr,\n",
    "                         green_ptr,\n",
    "                         blue_ptr)"
   ]
  },
  {
   "cell_type": "code",
   "execution_count": null,
   "metadata": {},
   "outputs": [
    {
     "data": {
      "text/plain": [
       "0.0"
      ]
     },
     "execution_count": 24,
     "metadata": {},
     "output_type": "execute_result"
    },
    {
     "ename": "",
     "evalue": "",
     "output_type": "error",
     "traceback": [
      "\u001b[1;31mThe Kernel crashed while executing code in the the current cell or a previous cell. Please review the code in the cell(s) to identify a possible cause of the failure. Click <a href='https://aka.ms/vscodeJupyterKernelCrash'>here</a> for more info. View Jupyter <a href='command:jupyter.viewOutput'>log</a> for further details."
     ]
    }
   ],
   "source": []
  }
 ],
 "metadata": {
  "kernelspec": {
   "display_name": "venv",
   "language": "python",
   "name": "python3"
  },
  "language_info": {
   "codemirror_mode": {
    "name": "ipython",
    "version": 3
   },
   "file_extension": ".py",
   "mimetype": "text/x-python",
   "name": "python",
   "nbconvert_exporter": "python",
   "pygments_lexer": "ipython3",
   "version": "3.10.12"
  }
 },
 "nbformat": 4,
 "nbformat_minor": 2
}
