{
 "cells": [
  {
   "cell_type": "code",
   "execution_count": 1,
   "metadata": {},
   "outputs": [],
   "source": [
    "# IMPORT PACKAGES\n",
    "from astropy.io import fits # FITS I/O\n",
    "import ctypes # C/C++/CUDA shared libraries\n",
    "import numpy as np # NumPy\n",
    "from pysiril.siril import Siril # Siril app\n",
    "from pysiril.wrapper import Wrapper # Siril API\n",
    "import time # Timing"
   ]
  },
  {
   "cell_type": "markdown",
   "metadata": {},
   "source": [
    "## CPU Code (Python calling Siril)"
   ]
  },
  {
   "cell_type": "code",
   "execution_count": 2,
   "metadata": {},
   "outputs": [
    {
     "name": "stdout",
     "output_type": "stream",
     "text": [
      "INFO   : VERSION siril 1.2.0 : \n",
      "INFO   : Siril is compatible with pysiril\n",
      "INFO   : Initialisation pySiril V0.0.15 : OK\n",
      "INFO   : First step: Starting 'Siril -p' ....\n",
      "INFO   : ThreadSiril is started\n",
      "INFO   : run : /usr/bin/siril -p\n",
      "INFO   : waiting: \n",
      "7s \n",
      "INFO   : Second step: Starting pipe reader ....\n",
      "INFO   : ThreadReader is started\n",
      "INFO   : Third step: Starting pipe writer ....\n",
      "INFO   : PipeWriter is started\n",
      "INFO   : Open()\n",
      "> requires 1.2.0\n",
      ": ready\n",
      ": log: Running command: requires\n",
      "> [status: success]\n"
     ]
    },
    {
     "data": {
      "text/plain": [
       "True"
      ]
     },
     "execution_count": 2,
     "metadata": {},
     "output_type": "execute_result"
    }
   ],
   "source": [
    "%%capture\n",
    "# LAUNCH SIRIL\n",
    "app = Siril(\"/usr/bin/siril\")\n",
    "cmd = Wrapper(app)\n",
    "app.Open()"
   ]
  },
  {
   "cell_type": "code",
   "execution_count": 7,
   "metadata": {},
   "outputs": [],
   "source": [
    "%%capture\n",
    "cmd.cd(\"/home/aanishpradhan/GitHub/cuSiril/assets/NGC-1499/Bias/\")\n",
    "cmd.stack(\"Bias\", type = \"rej\", rejection_type = \"sigma\", sigma_low = 3, \n",
    "\tsigma_high = 3, norm = \"no\", output_norm = False, rgb_equal = False, \n",
    "\tout = \"Bias_stacked.fit\")"
   ]
  },
  {
   "cell_type": "markdown",
   "metadata": {},
   "source": [
    "## GPU Code (Python calling CUDA)"
   ]
  },
  {
   "cell_type": "code",
   "execution_count": 8,
   "metadata": {},
   "outputs": [],
   "source": [
    "# SHARED LIBRARIES\n",
    "clib = ctypes.CDLL(\"/home/aanishpradhan/GitHub/cuSiril/src/Stacking/stack.so\")\n",
    "\n",
    "## Class/Type Definitions\n",
    "class Stack(ctypes.Structure):\n",
    "    _fields_ = [\n",
    "        (\"numberOfSubframes\", ctypes.c_uint64),\n",
    "        (\"imageWidth\", ctypes.c_uint64),\n",
    "        (\"imageHeight\", ctypes.c_uint64),\n",
    "        (\"pixelsPerImage\", ctypes.c_uint64),\n",
    "        (\"redSubframes\", ctypes.POINTER(ctypes.c_uint16)),\n",
    "        (\"greenSubframes\", ctypes.POINTER(ctypes.c_uint16)),\n",
    "        (\"blueSubframes\", ctypes.POINTER(ctypes.c_uint16)),\n",
    "        (\"stackedRed\", ctypes.POINTER(ctypes.c_float)),\n",
    "        (\"stackedGreen\", ctypes.POINTER(ctypes.c_float)),\n",
    "        (\"stackedBlue\", ctypes.POINTER(ctypes.c_float))\n",
    "    ]"
   ]
  },
  {
   "cell_type": "code",
   "execution_count": 9,
   "metadata": {},
   "outputs": [],
   "source": [
    "# DATA INGESTION\n",
    "frames = fits.open(\"/home/aanishpradhan/GitHub/cuSiril/assets/NGC-1499/Bias/Bias.fit\")"
   ]
  },
  {
   "cell_type": "code",
   "execution_count": 10,
   "metadata": {},
   "outputs": [],
   "source": [
    "# DATA TRANSFORMATION\n",
    "\n",
    "def flattenSubframes(subframes: list) -> list:\n",
    "\t\"\"\"\n",
    "\tFlattens a list of subframes.\n",
    "\t\n",
    "\tArgs:\n",
    "\t\tsubframes (list): A list of Astropy FITS HDU objects which contain the \n",
    "\t\tindividual subframes.\n",
    "\tReturns:\n",
    "\t\tA list of image statistics and NumPy ndarrays. The list contains, in \n",
    "\t\torder, the following: number of subframes, image width, image height, \n",
    "\t\tflattened and appended red color channels from each subframe, \n",
    "\t\tflattened and appended green color channels from each subframe, \n",
    "\t\tflattened and appended blue color channels from each subframe\n",
    "\t\"\"\"\n",
    "\n",
    "\t# Determine how much memory to allocate\n",
    "\timageWidth = subframes[0].data.T.shape[0]\n",
    "\timageHeight = subframes[0].data.T.shape[1]\n",
    "\tpixelsPerImage = imageWidth * imageHeight\n",
    "\tnumberOfSubframes = len(subframes)\n",
    "\tdataType = subframes[0].data.dtype\n",
    "\tprint(\"Image width:\", subframes[0].data.T.shape[0])\n",
    "\tprint(\"Image height:\", subframes[0].data.T.shape[1])\n",
    "\tprint(\"Pixels per image:\", pixelsPerImage)\n",
    "\tprint(\"Number of subframes:\", numberOfSubframes)\n",
    "\tprint(\"Data type:\", dataType)\n",
    "\t\n",
    "\t# Allocate empty arrays\n",
    "\tflattenedRedChannels = np.empty((1, pixelsPerImage * numberOfSubframes), dtype = dataType)\n",
    "\tflattenedGreenChannels = np.empty((1, pixelsPerImage * numberOfSubframes), dtype = dataType)\n",
    "\tflattenedBlueChannels = np.empty((1, pixelsPerImage * numberOfSubframes), dtype = dataType)\n",
    "\n",
    "\t# Flatten subframes by color channel\n",
    "\tfor subframe in range(0, len(subframes)):\n",
    "\t\tstartIndex = subframe * pixelsPerImage\n",
    "\t\tendIndex = (subframe + 1) * pixelsPerImage\n",
    "\n",
    "\t\tflattenedRedChannels[0, startIndex:endIndex] = subframes[subframe].data.T[:, :, 0].flatten()\n",
    "\t\tflattenedGreenChannels[0, startIndex:endIndex] = subframes[subframe].data.T[:, :, 1].flatten()\n",
    "\t\tflattenedBlueChannels[0, startIndex:endIndex] = subframes[subframe].data.T[:, :, 2].flatten()\n",
    "\n",
    "\treturn [numberOfSubframes, imageWidth, imageHeight, flattenedRedChannels.flatten(), flattenedGreenChannels.flatten(), flattenedBlueChannels.flatten()]"
   ]
  },
  {
   "cell_type": "code",
   "execution_count": 11,
   "metadata": {},
   "outputs": [
    {
     "name": "stdout",
     "output_type": "stream",
     "text": [
      "Image width: 4948\n",
      "Image height: 3280\n",
      "Pixels per image: 16229440\n",
      "Number of subframes: 5\n",
      "Data type: uint16\n"
     ]
    }
   ],
   "source": [
    "flattenedBiasFrames = flattenSubframes(frames)"
   ]
  },
  {
   "cell_type": "code",
   "execution_count": 12,
   "metadata": {},
   "outputs": [],
   "source": [
    "clib.initializeStackHOST.restype = ctypes.POINTER(Stack)\n",
    "clib.launchSumStack.restype = ctypes.POINTER(Stack)\n",
    "clib.launchSigmaClipping.restype = ctypes.POINTER(Stack)\n",
    "\n",
    "x = clib.initializeStackHOST(ctypes.c_uint64(flattenedBiasFrames[0]),\n",
    "\t\t\t\t\t\t\t ctypes.c_uint64(flattenedBiasFrames[1]),\n",
    "\t\t\t\t\t\t\t ctypes.c_uint64(flattenedBiasFrames[2]),\n",
    "\t\t\t\t\t\t\t ctypes.c_void_p(flattenedBiasFrames[3].ctypes.data),\n",
    "\t\t\t\t\t\t\t ctypes.c_void_p(flattenedBiasFrames[4].ctypes.data),\n",
    "\t\t\t\t\t\t\t ctypes.c_void_p(flattenedBiasFrames[5].ctypes.data))"
   ]
  },
  {
   "cell_type": "code",
   "execution_count": 13,
   "metadata": {},
   "outputs": [],
   "source": [
    "x = clib.launchSigmaClipping(x, ctypes.c_float(3.0), ctypes.c_float(3.0))"
   ]
  }
 ],
 "metadata": {
  "kernelspec": {
   "display_name": "venv",
   "language": "python",
   "name": "python3"
  },
  "language_info": {
   "codemirror_mode": {
    "name": "ipython",
    "version": 3
   },
   "file_extension": ".py",
   "mimetype": "text/x-python",
   "name": "python",
   "nbconvert_exporter": "python",
   "pygments_lexer": "ipython3",
   "version": "3.10.12"
  }
 },
 "nbformat": 4,
 "nbformat_minor": 2
}
