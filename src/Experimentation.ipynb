{
 "cells": [
  {
   "cell_type": "code",
   "execution_count": 78,
   "id": "c2b957bc-eb87-4309-90dc-7b9d4aee6abb",
   "metadata": {},
   "outputs": [],
   "source": [
    "# IMPORT PACKAGES\n",
    "from astropy.io import fits\n",
    "from ctypes import *\n",
    "import matplotlib.pyplot as plt\n",
    "import numpy as np # NumPy\n",
    "#import os\n",
    "from pysiril.siril import *\n",
    "from pysiril.wrapper import *\n",
    "#import sys\n",
    "import time"
   ]
  },
  {
   "cell_type": "code",
   "execution_count": 2,
   "id": "1bc8fb7a-63bb-41f6-b5aa-a184a36108da",
   "metadata": {},
   "outputs": [
    {
     "name": "stdout",
     "output_type": "stream",
     "text": [
      "INFO   : VERSION siril 1.2.0 : \n",
      "INFO   : Siril is compatible with pysiril\n",
      "INFO   : Initialisation pySiril V0.0.15 : OK\n",
      "INFO   : First step: Starting 'Siril -p' ....\n",
      "INFO   : ThreadSiril is started\n",
      "INFO   : run : /usr/bin/siril -p\n",
      "INFO   : waiting: \n",
      "7s \n",
      "INFO   : Second step: Starting pipe reader ....\n",
      "INFO   : ThreadReader is started\n",
      "INFO   : Third step: Starting pipe writer ....\n",
      "INFO   : PipeWriter is started\n",
      "INFO   : Open()\n",
      "> requires 1.2.0\n",
      ": ready\n",
      ": log: Running command: requires\n",
      "> [status: success]\n"
     ]
    },
    {
     "data": {
      "text/plain": [
       "True"
      ]
     },
     "execution_count": 2,
     "metadata": {},
     "output_type": "execute_result"
    }
   ],
   "source": [
    "app = Siril(\"/usr/bin/siril\")\n",
    "cmd = Wrapper(app)\n",
    "app.Open()"
   ]
  },
  {
   "cell_type": "code",
   "execution_count": 4,
   "id": "c6676757-c00e-4936-8900-21ef3fe274e8",
   "metadata": {},
   "outputs": [
    {
     "name": "stdout",
     "output_type": "stream",
     "text": [
      ": log: Filter pattern: RGGB\n",
      ": log: Filter Pattern: RGGB\n",
      ": log: Reading RAW: file DSC_0108.NEF, 3 layer(s), 4948x3280 pixels\n",
      ": log: Saving FITS: file /home/aanishpradhan/GitHub/cuSiril/NGC-1499/Flat/Dark_00106.fit, 3 layer(s), 4948x3280 pixels, 16 bits\n",
      ": log: Decoding Nikon D5100 file (ISO=2000, Exposure=49.3 sec)\n",
      ": log: Filter pattern: RGGB\n",
      ": log: Decoding Nikon D5100 file (ISO=2000, Exposure=49.3 sec)\n",
      ": log: Filter pattern: RGGB\n",
      ": log: Filter Pattern: RGGB\n",
      ": log: Filter Pattern: RGGB\n",
      ": log: Saving FITS: file /home/aanishpradhan/GitHub/cuSiril/NGC-1499/Flat/Dark_00108.fit, 3 layer(s), 4948x3280 pixels, 16 bits\n",
      ": log: Decoding Nikon D5100 file (ISO=2000, Exposure=49.3 sec)\n",
      ": log: Filter pattern: RGGB\n",
      ": log: Filter Pattern: RGGB\n",
      ": log: Reading RAW: file DSC_0110.NEF, 3 layer(s), 4948x3280 pixels\n",
      ": log: Decoding Nikon D5100 file (ISO=2000, Exposure=49.3 sec)\n",
      ": log: Filter pattern: RGGB\n",
      ": log: Filter Pattern: RGGB\n",
      ": log: Reading RAW: file DSC_0109.NEF, 3 layer(s), 4948x3280 pixels\n",
      ": log: Reading RAW: file DSC_0111.NEF, 3 layer(s), 4948x3280 pixels\n",
      ": log: Decoding Nikon D5100 file (ISO=2000, Exposure=49.3 sec)\n",
      ": log: Filter pattern: RGGB\n",
      ": log: Filter Pattern: RGGB\n",
      ": log: Saving FITS: file /home/aanishpradhan/GitHub/cuSiril/NGC-1499/Flat/Dark_00110.fit, 3 layer(s), 4948x3280 pixels, 16 bits\n",
      ": log: Saving FITS: file /home/aanishpradhan/GitHub/cuSiril/NGC-1499/Flat/Dark_00109.fit, 3 layer(s), 4948x3280 pixels, 16 bits\n",
      ": log: Decoding Nikon D5100 file (ISO=2000, Exposure=49.3 sec)\n",
      ": log: Filter pattern: RGGB\n",
      ": log: Reading RAW: file DSC_0112.NEF, 3 layer(s), 4948x3280 pixels\n",
      ": log: Filter Pattern: RGGB\n",
      ": log: Saving FITS: file /home/aanishpradhan/GitHub/cuSiril/NGC-1499/Flat/Dark_00111.fit, 3 layer(s), 4948x3280 pixels, 16 bits\n",
      ": log: Reading RAW: file DSC_0113.NEF, 3 layer(s), 4948x3280 pixels\n",
      ": log: Decoding Nikon D5100 file (ISO=2000, Exposure=49.3 sec)\n",
      ": log: Filter pattern: RGGB\n",
      ": log: Filter Pattern: RGGB\n",
      ": log: Saving FITS: file /home/aanishpradhan/GitHub/cuSiril/NGC-1499/Flat/Dark_00112.fit, 3 layer(s), 4948x3280 pixels, 16 bits\n",
      ": log: Reading RAW: file DSC_0114.NEF, 3 layer(s), 4948x3280 pixels\n",
      ": log: Saving FITS: file /home/aanishpradhan/GitHub/cuSiril/NGC-1499/Flat/Dark_00113.fit, 3 layer(s), 4948x3280 pixels, 16 bits\n",
      ": log: Reading RAW: file DSC_0115.NEF, 3 layer(s), 4948x3280 pixels\n",
      ": log: Saving FITS: file /home/aanishpradhan/GitHub/cuSiril/NGC-1499/Flat/Dark_00114.fit, 3 layer(s), 4948x3280 pixels, 16 bits\n",
      ": log: Reading RAW: file DSC_0116.NEF, 3 layer(s), 4948x3280 pixels\n",
      ": log: Decoding Nikon D5100 file (ISO=2000, Exposure=49.3 sec)\n",
      ": log: Filter pattern: RGGB\n",
      ": log: Saving FITS: file /home/aanishpradhan/GitHub/cuSiril/NGC-1499/Flat/Dark_00115.fit, 3 layer(s), 4948x3280 pixels, 16 bits\n",
      ": log: Filter Pattern: RGGB\n",
      ": log: Decoding Nikon D5100 file (ISO=2000, Exposure=49.3 sec)\n",
      ": log: Filter pattern: RGGB\n",
      ": log: Filter Pattern: RGGB\n",
      ": log: Saving FITS: file /home/aanishpradhan/GitHub/cuSiril/NGC-1499/Flat/Dark_00116.fit, 3 layer(s), 4948x3280 pixels, 16 bits\n",
      ": log: Decoding Nikon D5100 file (ISO=2000, Exposure=49.3 sec)\n",
      ": log: Filter pattern: RGGB\n",
      ": log: Filter Pattern: RGGB\n",
      ": log: Decoding Nikon D5100 file (ISO=2000, Exposure=49.3 sec)\n",
      ": log: Filter pattern: RGGB\n",
      ": log: Filter Pattern: RGGB\n",
      ": log: Decoding Nikon D5100 file (ISO=2000, Exposure=49.3 sec)\n",
      ": log: Filter pattern: RGGB\n",
      ": log: Filter Pattern: RGGB\n",
      ": log: Reading RAW: file DSC_0117.NEF, 3 layer(s), 4948x3280 pixels\n",
      ": log: Reading RAW: file DSC_0118.NEF, 3 layer(s), 4948x3280 pixels\n",
      ": log: Decoding Nikon D5100 file (ISO=2000, Exposure=49.3 sec)\n",
      ": log: Filter pattern: RGGB\n",
      ": log: Filter Pattern: RGGB\n",
      ": log: Saving FITS: file /home/aanishpradhan/GitHub/cuSiril/NGC-1499/Flat/Dark_00117.fit, 3 layer(s), 4948x3280 pixels, 16 bits\n",
      ": log: Saving FITS: file /home/aanishpradhan/GitHub/cuSiril/NGC-1499/Flat/Dark_00118.fit, 3 layer(s), 4948x3280 pixels, 16 bits\n",
      ": log: Reading RAW: file DSC_0119.NEF, 3 layer(s), 4948x3280 pixels\n",
      ": log: Reading RAW: file DSC_0121.NEF, 3 layer(s), 4948x3280 pixels\n",
      ": log: Reading RAW: file DSC_0120.NEF, 3 layer(s), 4948x3280 pixels\n",
      ": log: Decoding Nikon D5100 file (ISO=2000, Exposure=49.3 sec)\n",
      ": log: Filter pattern: RGGB\n",
      ": log: Filter Pattern: RGGB\n",
      ": log: Saving FITS: file /home/aanishpradhan/GitHub/cuSiril/NGC-1499/Flat/Dark_00119.fit, 3 layer(s), 4948x3280 pixels, 16 bits\n",
      ": log: Decoding Nikon D5100 file (ISO=2000, Exposure=49.3 sec)\n",
      ": log: Filter pattern: RGGB\n",
      ": log: Filter Pattern: RGGB\n",
      ": log: Saving FITS: file /home/aanishpradhan/GitHub/cuSiril/NGC-1499/Flat/Dark_00121.fit, 3 layer(s), 4948x3280 pixels, 16 bits\n",
      ": log: Reading RAW: file DSC_0122.NEF, 3 layer(s), 4948x3280 pixels\n",
      ": log: Saving FITS: file /home/aanishpradhan/GitHub/cuSiril/NGC-1499/Flat/Dark_00120.fit, 3 layer(s), 4948x3280 pixels, 16 bits\n",
      ": log: Saving FITS: file /home/aanishpradhan/GitHub/cuSiril/NGC-1499/Flat/Dark_00122.fit, 3 layer(s), 4948x3280 pixels, 16 bits\n",
      ": log: Reading RAW: file DSC_0123.NEF, 3 layer(s), 4948x3280 pixels\n",
      ": log: Decoding Nikon D5100 file (ISO=2000, Exposure=49.3 sec)\n",
      ": log: Filter pattern: RGGB\n",
      ": log: Filter Pattern: RGGB\n",
      ": log: Decoding Nikon D5100 file (ISO=2000, Exposure=49.3 sec)\n",
      ": log: Filter pattern: RGGB\n",
      ": log: Reading RAW: file DSC_0124.NEF, 3 layer(s), 4948x3280 pixels\n",
      ": log: Filter Pattern: RGGB\n",
      ": log: Saving FITS: file /home/aanishpradhan/GitHub/cuSiril/NGC-1499/Flat/Dark_00123.fit, 3 layer(s), 4948x3280 pixels, 16 bits\n",
      ": log: Saving FITS: file /home/aanishpradhan/GitHub/cuSiril/NGC-1499/Flat/Dark_00124.fit, 3 layer(s), 4948x3280 pixels, 16 bits\n",
      ": log: Reading RAW: file DSC_0125.NEF, 3 layer(s), 4948x3280 pixels\n",
      ": log: Reading RAW: file DSC_0126.NEF, 3 layer(s), 4948x3280 pixels\n",
      ": log: Decoding Nikon D5100 file (ISO=2000, Exposure=49.3 sec)\n",
      ": log: Filter pattern: RGGB\n",
      ": log: Filter Pattern: RGGB\n",
      ": log: Decoding Nikon D5100 file (ISO=2000, Exposure=49.3 sec)\n",
      ": log: Filter pattern: RGGB\n",
      ": log: Filter Pattern: RGGB\n",
      ": log: Decoding Nikon D5100 file (ISO=2000, Exposure=49.3 sec)\n",
      ": log: Filter pattern: RGGB\n",
      ": log: Filter Pattern: RGGB\n",
      ": log: Reading RAW: file DSC_0127.NEF, 3 layer(s), 4948x3280 pixels\n",
      ": log: Decoding Nikon D5100 file (ISO=2000, Exposure=49.3 sec)\n",
      ": log: Filter pattern: RGGB\n",
      ": log: Reading RAW: file DSC_0128.NEF, 3 layer(s), 4948x3280 pixels\n",
      ": log: Filter Pattern: RGGB\n",
      ": log: Decoding Nikon D5100 file (ISO=2000, Exposure=49.3 sec)\n",
      ": log: Filter pattern: RGGB\n",
      ": log: Reading RAW: file DSC_0129.NEF, 3 layer(s), 4948x3280 pixels\n",
      ": log: Filter Pattern: RGGB\n",
      ": log: Reading RAW: file DSC_0130.NEF, 3 layer(s), 4948x3280 pixels\n",
      ": log: Decoding Nikon D5100 file (ISO=2000, Exposure=49.3 sec)\n",
      ": log: Filter pattern: RGGB\n",
      ": log: Filter Pattern: RGGB\n",
      ": log: Reading RAW: file DSC_0131.NEF, 3 layer(s), 4948x3280 pixels\n",
      ": log: Reading RAW: file DSC_0132.NEF, 3 layer(s), 4948x3280 pixels\n",
      ": log: Saving FITS: file /home/aanishpradhan/GitHub/cuSiril/NGC-1499/Flat/Dark_00125.fit, 3 layer(s), 4948x3280 pixels, 16 bits\n",
      ": log: Saving FITS: file /home/aanishpradhan/GitHub/cuSiril/NGC-1499/Flat/Dark_00126.fit, 3 layer(s), 4948x3280 pixels, 16 bits\n",
      ": log: Saving FITS: file /home/aanishpradhan/GitHub/cuSiril/NGC-1499/Flat/Dark_00132.fit, 3 layer(s), 4948x3280 pixels, 16 bits\n",
      ": log: Saving FITS: file /home/aanishpradhan/GitHub/cuSiril/NGC-1499/Flat/Dark_00129.fit, 3 layer(s), 4948x3280 pixels, 16 bits\n",
      ": log: Saving FITS: file /home/aanishpradhan/GitHub/cuSiril/NGC-1499/Flat/Dark_00131.fit, 3 layer(s), 4948x3280 pixels, 16 bits\n",
      ": log: Saving FITS: file /home/aanishpradhan/GitHub/cuSiril/NGC-1499/Flat/Dark_00130.fit, 3 layer(s), 4948x3280 pixels, 16 bits\n",
      ": log: Saving FITS: file /home/aanishpradhan/GitHub/cuSiril/NGC-1499/Flat/Dark_00128.fit, 3 layer(s), 4948x3280 pixels, 16 bits\n",
      ": log: Saving FITS: file /home/aanishpradhan/GitHub/cuSiril/NGC-1499/Flat/Dark_00127.fit, 3 layer(s), 4948x3280 pixels, 16 bits\n",
      ": log: Decoding Nikon D5100 file (ISO=2000, Exposure=49.3 sec)\n",
      ": log: Filter pattern: RGGB\n",
      ": log: Decoding Nikon D5100 file (ISO=2000, Exposure=49.3 sec)\n",
      ": log: Filter pattern: RGGB\n",
      ": log: Filter Pattern: RGGB\n",
      ": log: Filter Pattern: RGGB\n",
      ": log: Decoding Nikon D5100 file (ISO=2000, Exposure=49.3 sec)\n",
      ": log: Filter pattern: RGGB\n",
      ": log: Filter Pattern: RGGB\n",
      ": log: Decoding Nikon D5100 file (ISO=2000, Exposure=49.3 sec)\n",
      ": log: Filter pattern: RGGB\n",
      ": log: Filter Pattern: RGGB\n",
      ": log: Reading RAW: file DSC_0135.NEF, 3 layer(s), 4948x3280 pixels\n",
      ": log: Reading RAW: file DSC_0136.NEF, 3 layer(s), 4948x3280 pixels\n",
      ": log: Saving FITS: file /home/aanishpradhan/GitHub/cuSiril/NGC-1499/Flat/Dark_00135.fit, 3 layer(s), 4948x3280 pixels, 16 bits\n",
      ": log: Reading RAW: file DSC_0133.NEF, 3 layer(s), 4948x3280 pixels\n",
      ": log: Saving FITS: file /home/aanishpradhan/GitHub/cuSiril/NGC-1499/Flat/Dark_00136.fit, 3 layer(s), 4948x3280 pixels, 16 bits\n",
      ": log: Reading RAW: file DSC_0134.NEF, 3 layer(s), 4948x3280 pixels\n",
      ": log: Saving FITS: file /home/aanishpradhan/GitHub/cuSiril/NGC-1499/Flat/Dark_00133.fit, 3 layer(s), 4948x3280 pixels, 16 bits\n",
      ": log: Saving FITS: file /home/aanishpradhan/GitHub/cuSiril/NGC-1499/Flat/Dark_00134.fit, 3 layer(s), 4948x3280 pixels, 16 bits\n",
      ": log: Conversion succeeded, 136 file(s) created for 136 input file(s) (136 image(s) converted, 0 failed)\n",
      "> cd '/home/aanishpradhan/GitHub/cuSiril/NGC-1499/Bias/'\n",
      "> [status: success]\n",
      "> convertraw Bias -debayer -fitseq -out=/home/aanishpradhan/GitHub/cuSiril/NGC-1499/Bias/\n",
      ": log: Running command: cd\n",
      ": log: Setting CWD (Current Working Directory) to '/home/aanishpradhan/GitHub/cuSiril/NGC-1499/Bias/'\n",
      "> [status: success]\n",
      "> cd '/home/aanishpradhan/GitHub/cuSiril/NGC-1499/Dark/'\n",
      ": log: Running command: convertraw\n",
      ": log: Convert: processing 5 files...\n",
      ": log: Number of images allowed in the write queue: 4 (zero or less is unlimited)\n",
      ": log: Decoding Nikon D5100 file (ISO=2000, Exposure=1/4000.0 sec)\n",
      ": log: Filter pattern: RGGB\n",
      ": log: Filter Pattern: RGGB\n",
      ": log: Decoding Nikon D5100 file (ISO=2000, Exposure=1/4000.0 sec)\n",
      ": log: Filter pattern: RGGB\n",
      ": log: Decoding Nikon D5100 file (ISO=2000, Exposure=1/4000.0 sec)\n",
      ": log: Filter pattern: RGGB\n",
      ": log: Filter Pattern: RGGB\n",
      ": log: Filter Pattern: RGGB\n",
      ": log: Decoding Nikon D5100 file (ISO=2000, Exposure=1/4000.0 sec)\n",
      ": log: Filter pattern: RGGB\n",
      ": log: Filter Pattern: RGGB\n",
      ": log: Reading RAW: file DSC_0145.NEF, 3 layer(s), 4948x3280 pixels\n",
      ": log: Number of images allowed in the write queue: 17 (zero or less is unlimited)\n",
      ": log: writer: Saving image 0, 3 layer(s), 4948x3280 pixels, 16 bits\n",
      ": log: Reading RAW: file DSC_0148.NEF, 3 layer(s), 4948x3280 pixels\n",
      ": log: Reading RAW: file DSC_0146.NEF, 3 layer(s), 4948x3280 pixels\n",
      ": log: Reading RAW: file DSC_0147.NEF, 3 layer(s), 4948x3280 pixels\n",
      ": log: writer: Saving image 1, 3 layer(s), 4948x3280 pixels, 16 bits\n",
      ": log: writer: Saving image 2, 3 layer(s), 4948x3280 pixels, 16 bits\n",
      ": log: writer: Saving image 3, 3 layer(s), 4948x3280 pixels, 16 bits\n",
      ": log: Decoding Nikon D5100 file (ISO=2000, Exposure=1/4000.0 sec)\n",
      ": log: Filter pattern: RGGB\n",
      ": log: Filter Pattern: RGGB\n",
      ": log: Reading RAW: file DSC_0149.NEF, 3 layer(s), 4948x3280 pixels\n",
      ": log: writer: Saving image 4, 3 layer(s), 4948x3280 pixels, 16 bits\n",
      ": log: Conversion succeeded, 1 file(s) created for 5 input file(s) (5 image(s) converted, 0 failed)\n",
      "> [status: success]\n",
      "> convertraw Dark -debayer -fitseq -out=/home/aanishpradhan/GitHub/cuSiril/NGC-1499/Dark/\n",
      ": log: Running command: cd\n",
      ": log: Setting CWD (Current Working Directory) to '/home/aanishpradhan/GitHub/cuSiril/NGC-1499/Dark/'\n",
      "> [status: success]\n",
      "> cd '/home/aanishpradhan/GitHub/cuSiril/NGC-1499/Flat/'\n",
      ": log: Running command: convertraw\n",
      ": log: Convert: processing 8 files...\n",
      ": log: Number of images allowed in the write queue: 4 (zero or less is unlimited)\n",
      ": log: Decoding Nikon D5100 file (ISO=2000, Exposure=49.3 sec)\n",
      ": log: Filter pattern: RGGB\n",
      ": log: Decoding Nikon D5100 file (ISO=2000, Exposure=49.3 sec)\n",
      ": log: Filter pattern: RGGB\n",
      ": log: Filter Pattern: RGGB\n",
      ": log: Filter Pattern: RGGB\n",
      ": log: Decoding Nikon D5100 file (ISO=2000, Exposure=49.3 sec)\n",
      ": log: Filter pattern: RGGB\n",
      ": log: Decoding Nikon D5100 file (ISO=2000, Exposure=49.3 sec)\n",
      ": log: Filter pattern: RGGB\n",
      ": log: Filter Pattern: RGGB\n",
      ": log: Filter Pattern: RGGB\n",
      ": log: Reading RAW: file DSC_0138.NEF, 3 layer(s), 4948x3280 pixels\n",
      ": log: Number of images allowed in the write queue: 17 (zero or less is unlimited)\n",
      ": log: Reading RAW: file DSC_0140.NEF, 3 layer(s), 4948x3280 pixels\n",
      ": log: Reading RAW: file DSC_0137.NEF, 3 layer(s), 4948x3280 pixels\n",
      ": log: writer: Saving image 0, 3 layer(s), 4948x3280 pixels, 16 bits\n",
      ": log: Reading RAW: file DSC_0139.NEF, 3 layer(s), 4948x3280 pixels\n",
      ": log: Decoding Nikon D5100 file (ISO=2000, Exposure=49.3 sec)\n",
      ": log: Filter pattern: RGGB\n",
      ": log: Filter Pattern: RGGB\n",
      ": log: Decoding Nikon D5100 file (ISO=2000, Exposure=49.3 sec)\n",
      ": log: Filter pattern: RGGB\n",
      ": log: Filter Pattern: RGGB\n",
      ": log: writer: Saving image 1, 3 layer(s), 4948x3280 pixels, 16 bits\n",
      ": log: Decoding Nikon D5100 file (ISO=2000, Exposure=49.3 sec)\n",
      ": log: Filter pattern: RGGB\n",
      ": log: Decoding Nikon D5100 file (ISO=2000, Exposure=49.3 sec)\n",
      ": log: Filter pattern: RGGB\n",
      ": log: Filter Pattern: RGGB\n",
      ": log: Filter Pattern: RGGB\n",
      ": log: writer: Saving image 2, 3 layer(s), 4948x3280 pixels, 16 bits\n",
      ": log: Reading RAW: file DSC_0143.NEF, 3 layer(s), 4948x3280 pixels\n",
      ": log: writer: Saving image 3, 3 layer(s), 4948x3280 pixels, 16 bits\n",
      ": log: Reading RAW: file DSC_0142.NEF, 3 layer(s), 4948x3280 pixels\n",
      ": log: Reading RAW: file DSC_0144.NEF, 3 layer(s), 4948x3280 pixels\n",
      ": log: Reading RAW: file DSC_0141.NEF, 3 layer(s), 4948x3280 pixels\n",
      ": log: writer: Saving image 4, 3 layer(s), 4948x3280 pixels, 16 bits\n",
      ": log: writer: Saving image 5, 3 layer(s), 4948x3280 pixels, 16 bits\n",
      ": log: writer: Saving image 6, 3 layer(s), 4948x3280 pixels, 16 bits\n",
      ": log: writer: Saving image 7, 3 layer(s), 4948x3280 pixels, 16 bits\n",
      ": log: Conversion succeeded, 1 file(s) created for 8 input file(s) (8 image(s) converted, 0 failed)\n",
      "> [status: success]\n",
      "> convertraw Flat -debayer -fitseq -out=/home/aanishpradhan/GitHub/cuSiril/NGC-1499/Flat/\n",
      ": log: Running command: cd\n",
      ": log: Setting CWD (Current Working Directory) to '/home/aanishpradhan/GitHub/cuSiril/NGC-1499/Flat/'\n",
      "> [status: success]\n",
      "> cd '/home/aanishpradhan/GitHub/cuSiril/NGC-1499/Light/'\n",
      ": log: Running command: convertraw\n",
      ": log: Convert: processing 1 file...\n",
      ": log: Number of images allowed in the write queue: 4 (zero or less is unlimited)\n",
      ": log: Decoding Nikon D5100 file (ISO=2000, Exposure=1/4000.0 sec)\n",
      ": log: Filter pattern: RGGB\n",
      ": log: Filter Pattern: RGGB\n",
      ": log: Reading RAW: file DSC_0145.NEF, 3 layer(s), 4948x3280 pixels\n",
      ": log: Number of images allowed in the write queue: 17 (zero or less is unlimited)\n",
      ": log: writer: Saving image 0, 3 layer(s), 4948x3280 pixels, 16 bits\n",
      ": log: Conversion succeeded, 1 file(s) created for 1 input file(s) (1 image(s) converted, 0 failed)\n",
      "> [status: success]\n",
      "> convertraw Light -debayer -fitseq -out=/home/aanishpradhan/GitHub/cuSiril/NGC-1499/Light/\n",
      ": log: Running command: cd\n",
      ": log: Setting CWD (Current Working Directory) to '/home/aanishpradhan/GitHub/cuSiril/NGC-1499/Light/'\n",
      "> [status: success]\n"
     ]
    },
    {
     "data": {
      "text/plain": [
       "(True,)"
      ]
     },
     "execution_count": 4,
     "metadata": {},
     "output_type": "execute_result"
    }
   ],
   "source": [
    "# CONVERT FILETYPES\n",
    "cmd.cd(\"/home/aanishpradhan/GitHub/cuSiril/NGC-1499/Bias/\")\n",
    "cmd.convertraw(basename=\"Bias\", debayer=True, fitseq=True, out=\"/home/aanishpradhan/GitHub/cuSiril/NGC-1499/Bias/\")\n",
    "\n",
    "cmd.cd(\"/home/aanishpradhan/GitHub/cuSiril/NGC-1499/Dark/\")\n",
    "cmd.convertraw(basename=\"Dark\", debayer=True, fitseq=True, out=\"/home/aanishpradhan/GitHub/cuSiril/NGC-1499/Dark/\")\n",
    "\n",
    "cmd.cd(\"/home/aanishpradhan/GitHub/cuSiril/NGC-1499/Flat/\")\n",
    "cmd.convertraw(basename=\"Flat\", debayer=True, fitseq=True, out=\"/home/aanishpradhan/GitHub/cuSiril/NGC-1499/Flat/\")\n",
    "\n",
    "cmd.cd(\"/home/aanishpradhan/GitHub/cuSiril/NGC-1499/Light/\")\n",
    "cmd.convertraw(basename=\"Light\", debayer=True, fitseq=True, out=\"/home/aanishpradhan/GitHub/cuSiril/NGC-1499/Light/\")"
   ]
  },
  {
   "cell_type": "code",
   "execution_count": 6,
   "metadata": {},
   "outputs": [
    {
     "name": "stdout",
     "output_type": "stream",
     "text": [
      "Help on method stack in module pysiril.wrapper:\n",
      "\n",
      "stack(sequencename, type=None, rejection_type=None, sigma_low=3, sigma_high=3, norm=None, output_norm=False, rgb_equal=False, out=None, filter_fwhm=None, filter_wfwhm=None, filter_round=None, filter_bkg=None, filter_nbstars=None, filter_quality=None, filter_included=False, filter_incl=False, weight_from_noise=False, weight_from_nbstack=False, weight_from_nbstars=False, weight_from_wfwhm=False, fastnorm=False, rejmap=False, rejmaps=False) method of pysiril.wrapper.Wrapper instance\n",
      "    Stacks the seqfilename sequence, using options.\n",
      "    \n",
      "    Syntax     : status=cmd.stack(seqfilename)\n",
      "                 status=cmd.stack(seqfilename, type={sum|min|max}, [filtering] [output_norm] [weighted] [out=filename])\n",
      "                 status=cmd.stack(seqfilename, type={med|median},  [norm=no, norm=] [filter-included] [weighted] [out=filename])\n",
      "                 status=cmd.stack(seqfilename, type={rej|mean}, [rejection_type], sigma_low, sigma_high, [nonorm,norm=] [filtering]  [weighted] [out=filename]\n",
      "    \n",
      "                status=cmd.stack(seqfilename,[type],[rejection type],[sigma_low, sigma_high,],\n",
      "                                             [nonorm, norm=], [output_norm],[rgb_equal]\n",
      "                                             [out=result_filename],\n",
      "                                             [filter_fwhm=value[%|k]], [filter_wfwhm=value[%|k]],\n",
      "                                             [filter_round=value[%|k]], [filter_bkg=value[%|k]],\n",
      "                                             [filter_nbstars=value[%|k]], [filter_quality=value[%|k]],\n",
      "                                             [filter_incl[uded]],\n",
      "                                             [weight_from_noise],\n",
      "                                             [weight_from_nbstack],\n",
      "                                             [weight_from_nbstars],\n",
      "                                             [weight_from_wfwhm],\n",
      "                                             [fastnorm],[-rejmap[s]]\n",
      "     Parameters :\n",
      "        - sequencename       = basename of input images\n",
      "        - type               = stack type (sum|min|max|med|median|rej|mean)\n",
      "        - rejection_type     = The rejection type is one of :\n",
      "                               {n[none], p[ercentile] , s[igma] , m[edian],\n",
      "                               w[insorized] , l[inear] , g[eneralized]}\n",
      "        - sigma_low          = low threshold for sigma clipping rejection\n",
      "        - sigma_high         = high threshold for sigma clipping rejection\n",
      "        - norm               = value are: no, add, addscale, mul or mulscale\n",
      "        - output_norm        = normalization at the end of the stacking\n",
      "        - rgb_equal          = output name of stacked image\n",
      "        - out                = output name of stacked image\n",
      "        - filter_fwhm        = fwhm threshold ( absolu value or pourcent with % )\n",
      "        - filter_wfwhm       = wfwhm threshold ( absolu value or pourcent with % )\n",
      "        - filter_bkg         = background threshold ( absolu value or pourcent with % )\n",
      "        - filter_nbstars     = stars number threshold ( absolu value or pourcent with % )\n",
      "        - filter_round       = roudness threshold ( absolu value or pourcent with % )\n",
      "        - filter_quality     = quality threshold ( absolu value or pourcent with % )\n",
      "        - filter_included    =\n",
      "        - weight_from_noise  = add larger weights to frames with lower background noise.\n",
      "        - weight_from_nbstack= weights input images based on how many images were used to create them.\n",
      "        - weight_from_nbstars= weights input images based on number of stars.\n",
      "        - weight_from_wfwhm  = weights input images based on wFWHM computed during registration.\n",
      "        - fast_norm          = specifies to use faster estimators for location and scale than the default IKSS\n",
      "        - rejmap             = rejection maps can be created, showing where pixels were rejected in one created images\n",
      "        - rejmaps            = rejection maps can be created, showing where pixels were rejected in two newly created images\n",
      "    Return     :\n",
      "        - status[0] = True: execution ok /status[0] = False: Aborted\n",
      "\n"
     ]
    }
   ],
   "source": [
    "help(cmd.stack)"
   ]
  },
  {
   "cell_type": "code",
   "execution_count": 8,
   "metadata": {},
   "outputs": [
    {
     "name": "stdout",
     "output_type": "stream",
     "text": [
      ": log: Running command: stack\n",
      ": log: Checking sequences in the directory: /home/aanishpradhan/GitHub/cuSiril/NGC-1499/Bias/.\n",
      ": log: Stacking sequence Bias\n",
      ": log: Not using rejection for stacking\n",
      ": log: Processing all images in the sequence (5)\n",
      ": log: Stacking result will be stored as a 32-bit image\n",
      ": log: Sum stacking: with the current memory and thread limits, up to 5 thread(s) can be used\n",
      ": log: Sum stacking: processing...\n",
      ": log: Sequence processing succeeded.\n",
      ": log: Execution time: 728.93 ms\n",
      ": log: Integration of 5 images on 5 of the sequence:\n",
      ": log: Pixel combination ......... normalized sum\n",
      ": log: Input normalization ....... none\n",
      ": log: Output normalization ...... disabled\n",
      ": log: Pixel rejection ........... none\n",
      ": log: Image weighting ........... disabled\n",
      ": log: RGB equalization .......... disabled\n",
      ": log: Background noise value (channel: #0): 936.074 (1.428e-02)\n",
      ": log: Background noise value (channel: #1): 766.317 (1.169e-02)\n",
      ": log: Background noise value (channel: #2): 946.968 (1.445e-02)\n",
      ": log: Saving FITS: file Bias_stacked.fit, 3 layer(s), 4948x3280 pixels, 32 bits\n",
      ": log: Stacked sequence successfully.\n",
      ": log: Execution time: 1.13 s\n",
      "> cd '/home/aanishpradhan/GitHub/cuSiril/NGC-1499/Bias/'\n",
      "> [status: success]\n",
      "> stack Bias sum\n",
      ": log: Running command: cd\n",
      ": log: Setting CWD (Current Working Directory) to '/home/aanishpradhan/GitHub/cuSiril/NGC-1499/Bias/'\n",
      "> [status: success]\n"
     ]
    }
   ],
   "source": [
    "# STACK BIAS FRAME\n",
    "def masterBias(biasDirectory):\n",
    "\tcmd.cd(biasDirectory)\n",
    "\tcmd.stack(\"Bias\", type = \"sum\", norm = \"no\")\n",
    "masterBias(\"/home/aanishpradhan/GitHub/cuSiril/NGC-1499/Bias/\")"
   ]
  },
  {
   "cell_type": "code",
   "execution_count": 46,
   "metadata": {},
   "outputs": [
    {
     "name": "stdout",
     "output_type": "stream",
     "text": [
      "Total bias frames: 5\n",
      "Image size: (4948, 3280, 3)\n",
      "Data type: uint16\n"
     ]
    }
   ],
   "source": [
    "# View bias frames data\n",
    "biasFrame = fits.open(\"/home/aanishpradhan/GitHub/cuSiril/NGC-1499/Bias/Bias.fit\")\n",
    "print(\"Total bias frames:\", len(biasFrame))\n",
    "print(\"Image size:\", np.shape(biasFrame[0].data.T))\n",
    "print(\"Data type:\", biasFrame[0].data.dtype)\n",
    "\n",
    "biasFrameRedChannel = np.empty((4948, 3280, 5), dtype = \"uint16\")\n",
    "biasFrameGreenChannel = np.empty((4948, 3280, 5), dtype = \"uint16\")\n",
    "biasFrameBlueChannel = np.empty((4948, 3280, 5), dtype = \"uint16\")\n",
    "\n",
    "for subframe in range(0, len(biasFrame)):\n",
    "\tbiasFrameRedChannel[:, :, subframe] = (biasFrame[subframe].data.T)[:, :, 0]\n",
    "\tbiasFrameGreenChannel[:, :, subframe] = (biasFrame[subframe].data.T)[:, :, 1]\n",
    "\tbiasFrameBlueChannel[:, :, subframe] = (biasFrame[subframe].data.T)[:, :, 2]"
   ]
  },
  {
   "cell_type": "code",
   "execution_count": 66,
   "metadata": {},
   "outputs": [
    {
     "name": "stdout",
     "output_type": "stream",
     "text": [
      "Total frames: 1\n",
      "Image size: (4948, 3280, 3)\n",
      "Data type: >f4\n"
     ]
    }
   ],
   "source": [
    "# View master bias frame data\n",
    "masterBiasFrame = fits.open(\"/home/aanishpradhan/GitHub/cuSiril/NGC-1499/Bias/Bias_stacked.fit\")\n",
    "print(\"Total frames:\", len(masterBiasFrame)) # Should be 1\n",
    "print(\"Image size:\", np.shape(masterBiasFrame[0].data.T)) # Should be same as above\n",
    "print(\"Data type:\", masterBiasFrame[0].data.dtype) # Big endian float32"
   ]
  },
  {
   "cell_type": "code",
   "execution_count": 161,
   "metadata": {},
   "outputs": [
    {
     "name": "stdout",
     "output_type": "stream",
     "text": [
      "[[ 26  26  45 ... 100  61  22]\n",
      " [ 18  18  48 ...  83  62  39]\n",
      " [ 10  10  48 ...  66  61  56]\n",
      " ...\n",
      " [ 68  68  75 ...  35  30  23]\n",
      " [ 94  94  83 ...  26  28  30]\n",
      " [ 94  94  83 ...  26  28  30]]\n",
      "1374\n"
     ]
    }
   ],
   "source": [
    "red = biasFrameRedChannel[:, :, 0] + biasFrameRedChannel[:, :, 1] + biasFrameRedChannel[:, :, 2] + \\\n",
    "\tbiasFrameRedChannel[:, :, 3] + biasFrameRedChannel[:, :, 4]\n",
    "a = np.max(red)\n",
    "print(red)\n",
    "print(a)"
   ]
  },
  {
   "cell_type": "code",
   "execution_count": 162,
   "metadata": {},
   "outputs": [
    {
     "name": "stdout",
     "output_type": "stream",
     "text": [
      "[[38 21 12 ... 27 20 44]\n",
      " [40 14 52 ...  0 48 68]\n",
      " [68 54 86 ... 39 98 55]\n",
      " ...\n",
      " [38 64 60 ... 22 33 42]\n",
      " [18 53 40 ... 45 36 41]\n",
      " [52 86 51 ... 70 52 46]]\n",
      "1206\n"
     ]
    }
   ],
   "source": [
    "green = biasFrameGreenChannel[:, :, 0] + biasFrameGreenChannel[:, :, 1] + biasFrameGreenChannel[:, :, 2] + \\\n",
    "\tbiasFrameGreenChannel[:, :, 3] + biasFrameGreenChannel[:, :, 4]\n",
    "b = np.max(green)\n",
    "print(green)\n",
    "print(b)"
   ]
  },
  {
   "cell_type": "code",
   "execution_count": 163,
   "metadata": {},
   "outputs": [
    {
     "name": "stdout",
     "output_type": "stream",
     "text": [
      "[[52 40 28 ... 60 20 20]\n",
      " [52 40 28 ... 60 20 20]\n",
      " [42 54 62 ... 46 18 18]\n",
      " ...\n",
      " [ 4 24 44 ... 15 30 30]\n",
      " [41 35 27 ... 23 15 15]\n",
      " [78 44 10 ... 27  0  0]]\n",
      "1206\n"
     ]
    }
   ],
   "source": [
    "blue = biasFrameBlueChannel[:, :, 0] + biasFrameBlueChannel[:, :, 1] + biasFrameBlueChannel[:, :, 2] + \\\n",
    "\tbiasFrameBlueChannel[:, :, 3] + biasFrameBlueChannel[:, :, 4]\n",
    "c = np.max(blue)\n",
    "print(blue)\n",
    "print(c)"
   ]
  },
  {
   "cell_type": "code",
   "execution_count": 165,
   "metadata": {},
   "outputs": [
    {
     "data": {
      "text/plain": [
       "3.81276802429149e-06"
      ]
     },
     "execution_count": 165,
     "metadata": {},
     "output_type": "execute_result"
    }
   ],
   "source": [
    "np.linalg.norm(masterBiasFrame[0].data.T[:, :, 0] - (red / a))"
   ]
  },
  {
   "cell_type": "code",
   "execution_count": 167,
   "metadata": {},
   "outputs": [
    {
     "data": {
      "text/plain": [
       "3.0267585463426106e-06"
      ]
     },
     "execution_count": 167,
     "metadata": {},
     "output_type": "execute_result"
    }
   ],
   "source": [
    "np.linalg.norm(masterBiasFrame[0].data.T[:, :, 1] - (green / a))"
   ]
  },
  {
   "cell_type": "code",
   "execution_count": 168,
   "metadata": {},
   "outputs": [
    {
     "data": {
      "text/plain": [
       "3.65359647572094e-06"
      ]
     },
     "execution_count": 168,
     "metadata": {},
     "output_type": "execute_result"
    }
   ],
   "source": [
    "np.linalg.norm(masterBiasFrame[0].data.T[:, :, 2] - (blue / a))"
   ]
  },
  {
   "cell_type": "code",
   "execution_count": 9,
   "metadata": {},
   "outputs": [
    {
     "name": "stdout",
     "output_type": "stream",
     "text": [
      ": log: Running command: stack\n",
      ": log: Stacking sequence Bias\n",
      ": log: Not using rejection for stacking\n",
      ": log: Processing all images in the sequence (5)\n",
      ": log: Stacking result will be stored as a 32-bit image\n",
      ": log: Sum stacking: with the current memory and thread limits, up to 5 thread(s) can be used\n",
      ": log: Sum stacking: processing...\n",
      ": log: Sequence processing succeeded.\n",
      ": log: Execution time: 695.69 ms\n",
      ": log: Integration of 5 images on 5 of the sequence:\n",
      ": log: Pixel combination ......... normalized sum\n",
      ": log: Input normalization ....... none\n",
      ": log: Output normalization ...... disabled\n",
      ": log: Pixel rejection ........... none\n",
      ": log: Image weighting ........... disabled\n",
      ": log: RGB equalization .......... disabled\n",
      ": log: Background noise value (channel: #0): 936.074 (1.428e-02)\n",
      ": log: Background noise value (channel: #1): 766.317 (1.169e-02)\n",
      ": log: Background noise value (channel: #2): 946.968 (1.445e-02)\n",
      ": log: Saving FITS: file Bias_stacked.fit, 3 layer(s), 4948x3280 pixels, 32 bits\n",
      ": log: Stacked sequence successfully.\n",
      ": log: Execution time: 1.04 s\n",
      "> cd '/home/aanishpradhan/GitHub/cuSiril/NGC-1499/Dark/'\n",
      "> [status: success]\n",
      "> stack Dark sum\n",
      ": log: Running command: cd\n",
      ": log: Setting CWD (Current Working Directory) to '/home/aanishpradhan/GitHub/cuSiril/NGC-1499/Dark/'\n",
      "> [status: success]\n"
     ]
    }
   ],
   "source": [
    "# STACK DARK FRAME\n",
    "def masterDark(darkDirectory):\n",
    "\tcmd.cd(darkDirectory)\n",
    "\tcmd.stack(\"Dark\", type = \"sum\", norm = \"no\")\n",
    "masterDark(\"/home/aanishpradhan/GitHub/cuSiril/NGC-1499/Dark/\")"
   ]
  }
 ],
 "metadata": {
  "kernelspec": {
   "display_name": "Python 3 (ipykernel)",
   "language": "python",
   "name": "python3"
  },
  "language_info": {
   "codemirror_mode": {
    "name": "ipython",
    "version": 3
   },
   "file_extension": ".py",
   "mimetype": "text/x-python",
   "name": "python",
   "nbconvert_exporter": "python",
   "pygments_lexer": "ipython3",
   "version": "3.10.12"
  }
 },
 "nbformat": 4,
 "nbformat_minor": 5
}
